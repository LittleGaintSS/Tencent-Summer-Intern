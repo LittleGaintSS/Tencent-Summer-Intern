{
 "cells": [
  {
   "cell_type": "markdown",
   "id": "25c87f0d",
   "metadata": {},
   "source": [
    "## 现在进行达成率的计算 (所有APP维度) 简化版"
   ]
  },
  {
   "cell_type": "markdown",
   "id": "c676b7f0",
   "metadata": {},
   "source": [
    "## 进行第一轮筛选并且清洗数据\n",
    "\n",
    "选出\n",
    "* IAA独代+gdt+APP\n",
    "* IAA独代+mp+APP\n",
    "* 非IAA独代+gdt+APP\n",
    "* 非IAA独代+mp+APP\n",
    "\n",
    "共4个维度.\n"
   ]
  },
  {
   "cell_type": "markdown",
   "id": "b0339f10",
   "metadata": {},
   "source": [
    "**注意我们这里区分APP 和小游戏维度，因为判断二者是否达成的逻辑不同**"
   ]
  },
  {
   "cell_type": "code",
   "execution_count": 1,
   "id": "82d5ebfa",
   "metadata": {},
   "outputs": [
    {
     "name": "stdout",
     "output_type": "stream",
     "text": [
      "筛选与清洗成功！\n"
     ]
    }
   ],
   "source": [
    "# 进行筛选 1\n",
    "\n",
    "import openpyxl\n",
    "import pandas as pd\n",
    "import numpy as np\n",
    "\n",
    "df=pd.read_excel('2部_游戏行业报表-OPS 0828-0903 2.xlsx',sheet_name = 'Sheet1')  #读取初始数据 excel表格数据\n",
    "\n",
    "# define a function to determine whether it is IAA独代 or others\n",
    "    \n",
    "\n",
    "dfa= df.loc[df['游戏集团'].isin(['IAA游戏独代内投','腾讯科技(深圳)有限公司']) ]  # 筛选出IAA独代 商品\n",
    "dfb= df[(df['游戏集团']!='IAA游戏独代内投') &  (df['游戏集团']!='腾讯科技(深圳)有限公司')] # 筛选出 非IAA独代商品\n",
    "\n",
    "df1=dfa[(dfa['是否微广流量']=='gdt')]  # 进行筛选 IAA独代+gdt 的商品 并保存为df1 dataframe 格式文件\n",
    "df2=dfa[(dfa['是否微广流量']=='mp')]  # 进行筛选  IAA独代+mp 的商品 并保存为df2 dataframe 格式文件\n",
    "df3=dfb[(dfb['是否微广流量']=='gdt')]  # 进行筛选 非IAA独代+gdt的商品 并保存为df3 dataframe 格式文件\n",
    "df4=dfb[(dfb['是否微广流量']=='mp')]  # 进行筛选 非IAA独代+ mp 的商品 并保存为df4 dataframe 格式文件\n",
    "\n",
    "# Maybe we could use a for loop here to simplify the process\n",
    "list=[df1,df2,df3,df4]\n",
    "list1=[] # 创建一个空的list 用于保存筛选过后为APP商品 以及 4个维度下的 dataframe \n",
    "\n",
    "j=0\n",
    "while j<4:\n",
    "    df=list[j]\n",
    "    list1.append(df.loc[df['商品类型'].isin([12,19])])  # 用于保存筛选过后的 为APP的商品 & 注意 12,19 为APP 类型\n",
    "    j+=1\n",
    "            \n",
    "# 进行数据清洗 去掉消耗为0 和 ROI出价为~ 的值 & 使用while loop 来简化清洗过程\n",
    "list2=[]  #创建一个空的list2 用于保存清洗过后为APP商品 以及 4个维度下的 dataframe\n",
    "list3=[]  #创建一个空的list3 用于保存筛选不合格为APP商品 以及 4个维度下的 dataframe 用于检查\n",
    "\n",
    "n=0\n",
    "while n<4:\n",
    "        df=list1[n]\n",
    "        list2.append(df[(df['首日变现ROI广告消耗(单位元)(元)(当前值)']!=0)& (df['ROI出价(点击口径)(旧)(元)(当前值)']!='~')& (df['游戏集团']!='0') ])  # 进行筛选掉竞价消耗为0的商品与筛选掉ROI出价为~ & 游戏集团 为0 的商品 \n",
    "        list3.append(df[(df['首日变现ROI广告消耗(单位元)(元)(当前值)']==0)| (df['ROI出价(点击口径)(旧)(元)(当前值)']=='~') ])  # 筛选出竞价消耗为0的商品和ROI出价为~的商品 用于检查           \n",
    "        n+=1\n",
    "\n",
    "# define save to simiplify the process    \n",
    "def save(df1, df2, writer1,write2, name1='A'): # 默认sheet_name 参数 为 A & writer1,writer2 为 将要写入的 excel 文件名\n",
    "        df1.to_excel(writer1, sheet_name= name1,index = False) # 保存原文件 为 sheet 1 且加参数而不加索引\n",
    "        df2.to_excel(writer2, sheet_name= name1,index = False) # 保存 df2 为 sheet 2 文件 且加参数而不加索引\n",
    " \n",
    "list4=['IAA独代+gdt+APP 1','IAA独代+mp+APP 1','非IAA独代+gdt+APP 1','非IAA独代+mp+APP 1']\n",
    "\n",
    "with pd.ExcelWriter('Stat1.xlsx') as writer1:\n",
    "    with pd.ExcelWriter('Bad Cases.xlsx') as writer2:\n",
    "        for k in range(0,4):\n",
    "            save(list2[k],list3[k],writer1,writer2,list4[k])\n",
    "        \n",
    "    \n",
    "print('筛选与清洗成功！')\n"
   ]
  },
  {
   "cell_type": "markdown",
   "id": "d93d913b",
   "metadata": {},
   "source": [
    "##  第一次统计在各个维度下的总账户数量和总竞价消耗以及达成账户和达成消耗"
   ]
  },
  {
   "cell_type": "code",
   "execution_count": 2,
   "id": "2047d1ac",
   "metadata": {},
   "outputs": [
    {
     "name": "stdout",
     "output_type": "stream",
     "text": [
      "统计成功！\n"
     ]
    }
   ],
   "source": [
    "# 进行统计 1\n",
    "\n",
    "import openpyxl\n",
    "import pandas as pd\n",
    "import numpy as np\n",
    "\n",
    "list0=['IAA独代+gdt+APP 1','IAA独代+mp+APP 1','非IAA独代+gdt+APP 1','非IAA独代+mp+APP 1']\n",
    "list=[]\n",
    "for n in range(0,4):\n",
    "    list.append(pd.read_excel('Stat1.xlsx',sheet_name = list0[n]))\n",
    "\n",
    "\n",
    "# 批量创建新的dataframe 以便后期写入数据\n",
    "df = pd.DataFrame() # 创建自定义列名称的DataFrame & 这里df 放在循环外 防止被覆盖\n",
    "list1=[df,df,df,df] # 在loop 外声明确保list1 里元素不丢失\n",
    "\n",
    "for j in range(0,4): # create a for loop to simplify the process \n",
    "    list1[j]=list[j].loc[:,[\"翻译后(如有).2\",'首日变现ROI广告消耗(单位元)(元)(当前值)']]#！！！ 翻译后(如有).2 为原表中 游戏名 请核对好该细节\n",
    "    list1[j].rename(columns={\"翻译后(如有).2\": '游戏名', '首日变现ROI广告消耗(单位元)(元)(当前值)':'总账户数/竞价消耗(元)'},inplace = True)\n",
    "    #print(list1[j])\n",
    "    \n",
    "\n",
    "# 透视表 统计总账户数和总竞价消耗 & 这里使用循环与自定义函数简化计算\n",
    "list2=[] # 创建一个空list 用于存储 各个透视表\n",
    "for i in range(0,4):\n",
    "    list2.append(pd.pivot_table(list1[i],index=[\"游戏名\"], \\\n",
    "                       aggfunc=['count','sum'],margins=True)) # 这里为统计过后数据\n",
    " \n",
    "\n",
    "\n",
    "# 保存各个dataframe 在 'Stat 1.xlsx'  excel 文件里\n",
    "\n",
    "list3=['IAA独代+gdt+APP 1','IAA独代+gdt+APP 2','IAA独代+mp+APP 1','IAA独代+mp+APP 2','非IAA独代+gdt+APP 1','非IAA独代+gdt+APP 2','非IAA独代+mp+APP 1','非IAA独代+mp+APP 2']\n",
    "\n",
    "# 定义save 函数简化计算 \n",
    "def save(df1, df2, writer,name1='A', name2='B'): # 默认sheet_name 参数 为 A,B & writer 为 将要写入的 excel 文件名\n",
    "        df1.to_excel(writer, sheet_name= name1,index = False) # 保存原文件 为 sheet 1 且加参数而不加索引\n",
    "        df2.to_excel(writer, sheet_name= name2) # 保存 df2 为 sheet 2 文件 且加参数而不加索引\n",
    "\n",
    "with pd.ExcelWriter('Stat1.xlsx') as writer:\n",
    "    for k in range(0,4):\n",
    "        save(list[k],list2[k],writer, list3[2*k],list3[2*k+1]) # 注意 list 为原文件, list2 为统计完的数据, list3 为表名\n",
    "         \n",
    "print('统计成功！')  "
   ]
  },
  {
   "cell_type": "code",
   "execution_count": 3,
   "id": "bc096d5d",
   "metadata": {},
   "outputs": [
    {
     "name": "stdout",
     "output_type": "stream",
     "text": [
      "统计成功！\n"
     ]
    }
   ],
   "source": [
    "# 进行统计 2.1, 统计各个APP 维度下的 首日实际 ROI 商品\n",
    "\n",
    "import openpyxl\n",
    "import pandas as pd\n",
    "import numpy as np\n",
    "from openpyxl import load_workbook # import load_workbook to accesss excel data\n",
    "\n",
    "# 读取excel 数据\n",
    "wb = load_workbook('Stat1.xlsx')\n",
    "\n",
    "list=['IAA独代+gdt+APP 1','IAA独代+mp+APP 1','非IAA独代+gdt+APP 1','非IAA独代+mp+APP 1']\n",
    "list1=[] # create a new list to store each work_sheet\n",
    "\n",
    "for i in range(0,4):\n",
    "    list1.append(wb[list[i]]) # 用 df.append.()写入数据\n",
    "\n",
    "# 创建新的列 \"首日实际ROI\"\n",
    "for j in range(0,4):\n",
    "    list1[j]['Q1']=\"首日实际ROI\"\n",
    "   \n",
    "#  use 4 'for' loops to compute '首日实际ROI'\n",
    "\n",
    "for j in range(0,4):\n",
    "    for i in range(2,list1[j].max_row+1): # here we add 1 because range will not include ws.max_row in Python \n",
    "         list1[j].cell(i, 17).value = list1[j].cell(i, 15).value / (list1[j].cell(i,11).value *10000) # 单元格计算用 ws1.cell(row,column).value\n",
    "\n",
    "wb.save(\"Stat1.xlsx\")\n",
    "print('统计成功！')  "
   ]
  },
  {
   "cell_type": "code",
   "execution_count": 4,
   "id": "2e83c8d8",
   "metadata": {},
   "outputs": [
    {
     "name": "stdout",
     "output_type": "stream",
     "text": [
      "IAA独代+gdt+APP 1 Sheet 中没有空值！ \n",
      "\n",
      "IAA独代+mp+APP 1 Sheet 中没有空值！ \n",
      "\n",
      "非IAA独代+gdt+APP 1 Sheet 中存在空值！ \n",
      "\n",
      "非IAA独代+mp+APP 1 Sheet 中存在空值！ \n",
      "\n",
      "统计成功！\n"
     ]
    }
   ],
   "source": [
    "# 进行统计 2.2, 统计各个APP 维度下的 达成 & 未达成 商品\n",
    "\n",
    "import openpyxl\n",
    "import pandas as pd\n",
    "import numpy as np\n",
    "from openpyxl import load_workbook # import load_workbook to accesss excel data\n",
    "\n",
    "def compare(a, b): \n",
    "        if  a > b:   # a 指ROI出价；b指实际ROI\n",
    "         return '未达成'\n",
    "        else: \n",
    "         return '达成'\n",
    "\n",
    "# 以dataframe 的形式 读取excel 数据 \n",
    "list=['IAA独代+gdt+APP 1','IAA独代+gdt+APP 2','IAA独代+mp+APP 1','IAA独代+mp+APP 2','非IAA独代+gdt+APP 1','非IAA独代+gdt+APP 2','非IAA独代+mp+APP 1','非IAA独代+mp+APP 2']\n",
    "list1=[]  # 用于 储存 预处理数据 or 代号以1 结尾的数据\n",
    "list2=[]  # 用于 储存 已统计数据 or 代号以2 结尾的数据\n",
    "\n",
    "# for loop 读取 代号以1 结尾的数据\n",
    "for i in range(0,4):\n",
    "    list1.append(pd.read_excel('Stat1.xlsx',sheet_name = list[2*i]))\n",
    "    \n",
    " \n",
    "#  for loop 读取 代号以 2 结尾的数据\n",
    "for j in range(0,4):\n",
    "    list2.append(pd.read_excel('Stat1.xlsx',sheet_name = list[2*j+1]))\n",
    "\n",
    "    \n",
    "#change the type of this column from object to float\n",
    "for k in range(0,4):\n",
    "    list1[k]['ROI出价(点击口径)(旧)(元)(当前值)']= pd.to_numeric(list1[k]['ROI出价(点击口径)(旧)(元)(当前值)'], errors='coerce') # change the type of this column from object to float\n",
    "\n",
    "\n",
    "# 用compare 判断是否达成 & 在此之前 还需要一个函数 用于判断 是否有 Sheet 存在空值情况\n",
    "for k in range(0,4):\n",
    "    df = list1[k]\n",
    "    if df['首日实际ROI'].isnull().all() : # == np.nan or .all() 判断某列是否全部为空值\n",
    "        size = df.index.size   # 行数\n",
    "        column = df.shape[1] # 列数\n",
    "        x=np.arange(column) # 注意这里的 np.arange()  只有 一个 r 在 arange 里\n",
    "        x[::-1].sort()  # 将 数组按从大到小排列, 从column-1 至 0\n",
    "        list1[k].loc[size]= x\n",
    "        print(list[2*k]+ ' Sheet 中存在空值！','\\n')\n",
    "    else:\n",
    "        print(list[2*k]+ ' Sheet 中没有空值！','\\n')\n",
    "\n",
    "for k in range(0,4):\n",
    "    list1[k]['是否达成'] = list1[k].apply(lambda x: compare(x['ROI出价(点击口径)(旧)(元)(当前值)'], x['首日实际ROI']), axis = 1) # lambda x 这里为简易函数\n",
    "\n",
    "# 定义 save2 函数简化 写入过程\n",
    "def save2(df1, df2, writer,name1='A', name2='B'): # 默认sheet_name 参数 为 A,B & writer 为 将要写入的 excel 文件名\n",
    "        df1.to_excel(writer, sheet_name= name1,index = False) # 保存原文件 为 sheet 1 且加参数而不加索引\n",
    "        df2.to_excel(writer, sheet_name= name2,index = False) # 保存 df2 为 sheet 2 文件 且加参数而不加索引\n",
    "\n",
    "\n",
    "with pd.ExcelWriter('Stat2.xlsx') as writer:\n",
    "    for n in range(0,4):\n",
    "        save2(list1[n],list2[n],writer, list[2*n],list[2*n+1]) # 注意 list 2 为统计完的文件, list1 为此cell处理完的数据, list 为表名\n",
    "         \n",
    "print('统计成功！')       \n",
    "        "
   ]
  },
  {
   "cell_type": "code",
   "execution_count": 5,
   "id": "fbde522e",
   "metadata": {},
   "outputs": [
    {
     "name": "stdout",
     "output_type": "stream",
     "text": [
      "统计成功！\n"
     ]
    }
   ],
   "source": [
    "#进行统计 3, 统计各个维度下 的 达成 & 未达成 商品 的账户数和总竞价消耗 并且将计算完的数据保存在Stat2\n",
    "\n",
    "import openpyxl\n",
    "import pandas as pd\n",
    "import numpy as np\n",
    "from openpyxl import load_workbook # import load_workbook to accesss excel data\n",
    "\n",
    "# 以dataframe 的形式 读取excel Stat2 数据 \n",
    "\n",
    "list=['IAA独代+gdt+APP 1','IAA独代+gdt+APP 2','IAA独代+mp+APP 1','IAA独代+mp+APP 2','非IAA独代+gdt+APP 1','非IAA独代+gdt+APP 2','非IAA独代+mp+APP 1','非IAA独代+mp+APP 2']\n",
    "list1=[]  # 用于 储存 预处理数据 or 代号以1 结尾的数据\n",
    "list2=[]  # 用于 储存 已统计数据 or 代号以2 结尾的数据\n",
    "\n",
    "# for loop 读取 代号以1 结尾的数据\n",
    "for i in range(0,4):\n",
    "    list1.append(pd.read_excel('Stat2.xlsx',sheet_name = list[2*i]))\n",
    "     \n",
    "# for loop 读取 代号以 2 结尾的数据\n",
    "for j in range(0,4):\n",
    "    list2.append(pd.read_excel('Stat2.xlsx',sheet_name = list[2*j+1]))\n",
    "\n",
    "# 进行最后的筛选统计\n",
    "list3=[]   \n",
    "n=0\n",
    "while n<4:\n",
    "        df=list1[n]\n",
    "        list3.append(df[df['是否达成']==\"达成\"]) # 进行筛选出 达成 的项 并保存为dfa dataframe 格式文件\n",
    "        n+=1\n",
    "\n",
    "# 批量创建新的dataframe 以便后期写入数据\n",
    "df = pd.DataFrame() # 创建自定义列名称的DataFrame & 这里df 放在循环外 防止被覆盖\n",
    "list4=[df,df,df,df] # 在loop 外声明确保list4 里元素不丢失\n",
    "\n",
    "for j in range(0,4): # create a for loop to simplify the process\n",
    "    list4[j]=list3[j].loc[:,[\"翻译后(如有).2\",'首日变现ROI广告消耗(单位元)(元)(当前值)']] #！！！ 翻译后(如有).2 为原表中 游戏名 请核对好该细节\n",
    "    list4[j].rename(columns={\"翻译后(如有).2\": '游戏名', '首日变现ROI广告消耗(单位元)(元)(当前值)': '达成总账户数/达成竞价消耗(元)'},inplace = True)\n",
    "\n",
    "\n",
    "# pd.pivot_table 透视表进行统计 & 统计总账户数和总竞价消耗 & 这里使用循环与自定义函数简化计算\n",
    "list5=[] # 创建一个空list 用于存储 各个透视表\n",
    "for i in range(0,4):\n",
    "    list5.append(pd.pivot_table(list4[i],index=[\"游戏名\"], \\\n",
    "                       aggfunc=['count','sum'],margins=True)) # 这里为统计过后数据\n",
    "\n",
    "\n",
    "# 定义 save3 函数简化 写入过程\n",
    "def save3(df1, df2,df3, writer,name1='A', name2='B',name3='C'): # df1,2,3 为dataframe 数据 & 默认sheet_name 参数 为 A,B,C & writer 为 将要写入的 excel 文件名 \n",
    "        df1.to_excel(writer, sheet_name= name1,index = False) # 保存原文件 为 sheet 1 且加参数而不加索引\n",
    "        df2.to_excel(writer, sheet_name= name2,index = False) # 保存 df2 为 sheet 2 文件 且加参数而不加索引\n",
    "        df3.to_excel(writer, sheet_name= name3,) # 保存 df3为 sheet 3 文件 \n",
    "\n",
    "# 再创建一个list6 用于读取和写入 表名\n",
    "list6=['IAA独代+gdt+APP 3','IAA独代+mp+APP 3','非IAA独代+gdt+APP 3','非IAA独代+mp+APP 3']\n",
    "\n",
    "with pd.ExcelWriter('Stat2.xlsx') as writer:\n",
    "    for n in range(0,4):\n",
    "        save3(list1[n],list2[n],list5[n], writer, list[2*n],list[2*n+1],list6[n]) # 注意 list3 为 此次cell 处理数据; list 2 之前统计完的文件; list1 为原数据;  list, list6 为表名 \n",
    "         \n",
    "print('统计成功！')           \n",
    "    \n"
   ]
  },
  {
   "cell_type": "markdown",
   "id": "5d4238fb",
   "metadata": {},
   "source": [
    "## 最后我们进行达成率的计算"
   ]
  },
  {
   "cell_type": "code",
   "execution_count": 6,
   "id": "bb88f2ef",
   "metadata": {},
   "outputs": [
    {
     "name": "stdout",
     "output_type": "stream",
     "text": [
      "0.8914027149321267 0.9903479019199811 \n",
      "\n",
      "0.7835051546391752 0.9738025775254997 \n",
      "\n",
      "0.0 0.0 \n",
      "\n",
      "0.0 0.0 \n",
      "\n",
      "计算成功！\n"
     ]
    }
   ],
   "source": [
    "import openpyxl\n",
    "import pandas as pd\n",
    "import numpy as np\n",
    "from openpyxl import load_workbook # import load_workbook to accesss excel data\n",
    "\n",
    "wb = load_workbook('达成率表格.xlsx')\n",
    "wb1 = load_workbook('Stat2.xlsx')\n",
    "\n",
    "ws = wb['Sheet1']\n",
    "\n",
    "# 读取excel 数据\n",
    "\n",
    "list=['IAA独代+gdt+APP 2','IAA独代+mp+APP 2','非IAA独代+gdt+APP 2','非IAA独代+mp+APP 2']\n",
    "list1=['IAA独代+gdt+APP 3','IAA独代+mp+APP 3','非IAA独代+gdt+APP 3','非IAA独代+mp+APP 3']\n",
    "list2=[] # create a new list to store each work_sheet 2\n",
    "list3=[] # create a new list to store each work_sheet 3\n",
    "\n",
    "for k in range(0,4):\n",
    "    list2.append(wb1[list[k]])\n",
    "    list3.append(wb1[list1[k]])\n",
    "    \n",
    "   \n",
    " #  use 'for' loops to compute ' 达成率 & 这里 用 max(value,1) 和 max(value,0.0000001) 为了避免公式出现 /0 的情况\n",
    "                 \n",
    "for j in range(0,4):\n",
    "    ws.cell(2*j+2,4).value = list3[j].cell(list3[j].max_row,2).value /  max(list2[j].cell(list2[j].max_row,2).value,1) # 将 达成率(账户数) 写在 D2,4,6,8 上 & D2 刚好 是 IAA独代+ gdt + APP...\n",
    "    ws.cell(2*j+2,5).value= list3[j].cell(list3[j].max_row,3).value /  max(list2[j].cell(list2[j].max_row,3).value,0.00000001) # 将 达成率(消耗数) 写在 E2,4,6,8 上 & E2 刚好 是 IAA独代+ gdt + APP...\n",
    "    print(ws.cell(2*j+2,4).value,ws.cell(2*j+2,5).value,'\\n' )\n",
    "                 \n",
    "\n",
    "wb.save(\"Result.xlsx\")\n",
    "\n",
    "print('计算成功！')    \n",
    " "
   ]
  },
  {
   "cell_type": "code",
   "execution_count": null,
   "id": "d1a21a03",
   "metadata": {},
   "outputs": [],
   "source": []
  },
  {
   "cell_type": "code",
   "execution_count": null,
   "id": "50874f08",
   "metadata": {},
   "outputs": [],
   "source": []
  }
 ],
 "metadata": {
  "kernelspec": {
   "display_name": "Python 3 (ipykernel)",
   "language": "python",
   "name": "python3"
  },
  "language_info": {
   "codemirror_mode": {
    "name": "ipython",
    "version": 3
   },
   "file_extension": ".py",
   "mimetype": "text/x-python",
   "name": "python",
   "nbconvert_exporter": "python",
   "pygments_lexer": "ipython3",
   "version": "3.7.10"
  }
 },
 "nbformat": 4,
 "nbformat_minor": 5
}
